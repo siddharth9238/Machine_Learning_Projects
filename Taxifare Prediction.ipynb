{
  "nbformat": 4,
  "nbformat_minor": 0,
  "metadata": {
    "colab": {
      "provenance": [],
      "include_colab_link": true
    },
    "kernelspec": {
      "name": "python3",
      "display_name": "Python 3"
    },
    "language_info": {
      "name": "python"
    }
  },
  "cells": [
    {
      "cell_type": "markdown",
      "metadata": {
        "id": "view-in-github",
        "colab_type": "text"
      },
      "source": [
        "<a href=\"https://colab.research.google.com/github/siddharth9238/Machine_Learning_Projects/blob/main/Taxifare%20Prediction.ipynb\" target=\"_parent\"><img src=\"https://colab.research.google.com/assets/colab-badge.svg\" alt=\"Open In Colab\"/></a>"
      ]
    },
    {
      "cell_type": "code",
      "execution_count": null,
      "metadata": {
        "id": "3KDgT4e28g4u"
      },
      "outputs": [],
      "source": [
        "import pandas as pd\n",
        "import numpy as np\n",
        "import matplotlib.pyplot as plt\n",
        "%matplotlib inline\n",
        "import seaborn as sns\n",
        "from sklearn.model_selection import train_test_split\n",
        "from sklearn.linear_model import LinearRegression\n",
        "from sklearn.metrics import mean_squared_error\n",
        "from geopy import distance\n",
        "import warnings\n",
        "warnings.filterwarnings('ignore')"
      ]
    },
    {
      "cell_type": "code",
      "source": [
        "# Load the data into a Pandas DataFrame\n",
        "df = pd.read_csv('https://raw.githubusercontent.com/Premalatha-success/Datasets/main/TaxiFare.csv',encoding='utf-8')"
      ],
      "metadata": {
        "id": "otpLtj558-i6"
      },
      "execution_count": null,
      "outputs": []
    },
    {
      "cell_type": "code",
      "source": [
        "#show the first few rows of the DataFrame\n",
        "df.head()"
      ],
      "metadata": {
        "id": "1s1Y3Ig_9Uhg"
      },
      "execution_count": null,
      "outputs": []
    },
    {
      "cell_type": "code",
      "source": [],
      "metadata": {
        "id": "0cYHUnJ5DiwJ"
      },
      "execution_count": null,
      "outputs": []
    },
    {
      "cell_type": "code",
      "source": [
        "#show the any 10 rows of the DataFrame\n",
        "df.sample(10)"
      ],
      "metadata": {
        "id": "JqDIlbeU_dUA"
      },
      "execution_count": null,
      "outputs": []
    },
    {
      "cell_type": "code",
      "source": [
        "df.shape"
      ],
      "metadata": {
        "id": "8Hep8M2C_3Aj"
      },
      "execution_count": null,
      "outputs": []
    },
    {
      "cell_type": "code",
      "source": [
        "df.describe()"
      ],
      "metadata": {
        "id": "K3Lt801X_-iw"
      },
      "execution_count": null,
      "outputs": []
    },
    {
      "cell_type": "code",
      "source": [
        "df.info()"
      ],
      "metadata": {
        "id": "erXIhpLiAA83"
      },
      "execution_count": null,
      "outputs": []
    },
    {
      "cell_type": "code",
      "source": [
        "df=pd.get_dummies(df,columns=[\"no_of_passenger\"])"
      ],
      "metadata": {
        "id": "TLjlDKOwAGgl"
      },
      "execution_count": null,
      "outputs": []
    },
    {
      "cell_type": "code",
      "source": [
        "df.dtypes"
      ],
      "metadata": {
        "id": "XVy5C7SQ9brx"
      },
      "execution_count": null,
      "outputs": []
    },
    {
      "cell_type": "code",
      "source": [
        "# Check for missing values\n",
        "print(df.isnull().sum())"
      ],
      "metadata": {
        "id": "4lDd9Kc09fnz"
      },
      "execution_count": null,
      "outputs": []
    },
    {
      "cell_type": "code",
      "source": [
        "# Remove any rows with missing values\n",
        "df.dropna(inplace=True)"
      ],
      "metadata": {
        "id": "YKV7QNsu9nBy"
      },
      "execution_count": null,
      "outputs": []
    },
    {
      "cell_type": "code",
      "source": [
        "# Convert the pickup and dropoff coordinates to (lat, long) tuples\n",
        "pickup_coords = df[['longitude_of_pickup','latitude_of_pickup']].values\n",
        "dropoff_coords = df[['longitude_of_dropoff','latitude_of_dropoff']].values"
      ],
      "metadata": {
        "id": "gzv3tQzH9qDh"
      },
      "execution_count": null,
      "outputs": []
    },
    {
      "cell_type": "code",
      "source": [
        "# Calculate the distance between pickup and dropoff points using geopy's distance function\n",
        "distances = [distance.distance(pickup_coords[i], dropoff_coords[i]).km for i in range(len(df))]\n",
        "df.loc[:, 'distance'] = distances"
      ],
      "metadata": {
        "id": "_TsWi7289utL"
      },
      "execution_count": null,
      "outputs": []
    },
    {
      "cell_type": "code",
      "source": [
        "# Convert pickup_datetime column to datetime type and extract datetime features\n",
        "df.loc[:, 'date_time_of_pickup'] = pd.to_datetime(df['date_time_of_pickup'])\n",
        "df.loc[:, 'hour'] = df['date_time_of_pickup'].dt.hour\n",
        "df.loc[:, 'day'] = df['date_time_of_pickup'].dt.day\n",
        "df.loc[:, 'month'] = df['date_time_of_pickup'].dt.month"
      ],
      "metadata": {
        "id": "0Caxmh_z901y"
      },
      "execution_count": null,
      "outputs": []
    },
    {
      "cell_type": "code",
      "source": [
        "# Convert relevant columns to numeric data types, excluding 'date_time_of_pickup'\n",
        "df = df.apply(lambda x: pd.to_numeric(x, errors='coerce', downcast='float') if x.name != 'date_time_of_pickup' else x)"
      ],
      "metadata": {
        "id": "IAd1Zv0N96hQ"
      },
      "execution_count": null,
      "outputs": []
    },
    {
      "cell_type": "code",
      "source": [
        "df.dtypes"
      ],
      "metadata": {
        "id": "_Z6UJtvb9_Pp"
      },
      "execution_count": null,
      "outputs": []
    },
    {
      "cell_type": "code",
      "source": [
        "# Remove any rows with fare_amount <= 0\n",
        "df = df.loc[df['amount'] > 0]"
      ],
      "metadata": {
        "id": "1a_NQ-Va-DOT"
      },
      "execution_count": null,
      "outputs": []
    },
    {
      "cell_type": "code",
      "source": [
        "# Plot the distribution of the amount column\n",
        "sns.displot(df['amount'])"
      ],
      "metadata": {
        "id": "VgFR1He_-HiA"
      },
      "execution_count": null,
      "outputs": []
    },
    {
      "cell_type": "code",
      "source": [
        "# Remove any rows with amount <= 0\n",
        "df = df[df['amount'] > 0]"
      ],
      "metadata": {
        "id": "ZK7yjZL1-Paj"
      },
      "execution_count": null,
      "outputs": []
    },
    {
      "cell_type": "code",
      "source": [
        "df = df.drop('unique_id', axis=1)\n",
        "df.dtypes"
      ],
      "metadata": {
        "id": "dSgvh3ae-Rnp"
      },
      "execution_count": null,
      "outputs": []
    },
    {
      "cell_type": "code",
      "source": [
        "df.fillna(0, inplace=True)  # fill missing values with 0"
      ],
      "metadata": {
        "id": "1pin5i8e-Vaa"
      },
      "execution_count": null,
      "outputs": []
    },
    {
      "cell_type": "code",
      "source": [
        "# Split the data into training and testing sets\n",
        "X = df.drop('amount', axis=1)\n",
        "y = df['amount']\n",
        "X_train, X_test, y_train, y_test = train_test_split(X, y, test_size=0.3, random_state=42)"
      ],
      "metadata": {
        "id": "DeBxR9OI-ctr"
      },
      "execution_count": null,
      "outputs": []
    },
    {
      "cell_type": "code",
      "source": [
        "#For rescalling the data\n",
        "from sklearn.preprocessing import StandardScaler\n",
        "\n",
        "scaler = StandardScaler()\n",
        "df_scaled = scaler.fit_transform(df)"
      ],
      "metadata": {
        "id": "IC5r7cZE-ejg"
      },
      "execution_count": null,
      "outputs": []
    },
    {
      "cell_type": "code",
      "source": [
        "# Train a linear regression model\n",
        "model = LinearRegression()\n",
        "model.fit(X_train, y_train)"
      ],
      "metadata": {
        "id": "dNjLdJQF-jKs"
      },
      "execution_count": null,
      "outputs": []
    },
    {
      "cell_type": "code",
      "source": [
        "# Make predictions on the testing set\n",
        "y_pred = model.predict(X_test)"
      ],
      "metadata": {
        "id": "7JvxTZDY-ngc"
      },
      "execution_count": null,
      "outputs": []
    },
    {
      "cell_type": "code",
      "source": [
        "# Compute the root mean squared error (RMSE)\n",
        "rmse = np.sqrt(mean_squared_error(y_test, y_pred))\n",
        "print(\"RMSE:\", rmse)"
      ],
      "metadata": {
        "id": "EBEgQ0hg-rKE"
      },
      "execution_count": null,
      "outputs": []
    },
    {
      "cell_type": "code",
      "source": [
        "# Plot the predicted vs. actual fares\n",
        "plt.scatter(y_test, y_pred)\n",
        "plt.xlabel(\"Actual Fare\")\n",
        "plt.ylabel(\"Predicted Fare\")\n",
        "plt.show()"
      ],
      "metadata": {
        "id": "cwcvSk8b-vjK"
      },
      "execution_count": null,
      "outputs": []
    },
    {
      "cell_type": "code",
      "source": [
        "df.dtypes"
      ],
      "metadata": {
        "id": "ST13VYyEA6i1"
      },
      "execution_count": null,
      "outputs": []
    },
    {
      "cell_type": "code",
      "source": [
        "df.boxplot(column=\"amount\")\n",
        "plt.show()"
      ],
      "metadata": {
        "id": "1iXa8xq8BHVW"
      },
      "execution_count": null,
      "outputs": []
    },
    {
      "cell_type": "code",
      "source": [
        "df.boxplot(column=\"longitude_of_pickup\")\n",
        "plt.show()"
      ],
      "metadata": {
        "id": "An4OSkCDBL__"
      },
      "execution_count": null,
      "outputs": []
    },
    {
      "cell_type": "code",
      "source": [
        "df.boxplot(column=\"latitude_of_pickup\")\n",
        "plt.show()"
      ],
      "metadata": {
        "id": "Yy768ybTBTlI"
      },
      "execution_count": null,
      "outputs": []
    },
    {
      "cell_type": "code",
      "source": [
        "df.boxplot(column=\"longitude_of_dropoff\")\n",
        "plt.show()"
      ],
      "metadata": {
        "id": "sWH-06G5BZz9"
      },
      "execution_count": null,
      "outputs": []
    },
    {
      "cell_type": "code",
      "source": [
        "df.boxplot(column=\"latitude_of_dropoff\")\n",
        "plt.show()"
      ],
      "metadata": {
        "id": "tKlT36mdC9RQ"
      },
      "execution_count": null,
      "outputs": []
    }
  ]
}